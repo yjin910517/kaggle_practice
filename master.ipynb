{
 "cells": [
  {
   "cell_type": "code",
   "execution_count": 122,
   "metadata": {
    "collapsed": true
   },
   "outputs": [],
   "source": [
    "import pandas as pd\n",
    "import matplotlib.pyplot as plt\n",
    "import numpy as np\n",
    "from time import time\n",
    "import re\n",
    "\n",
    "%matplotlib inline"
   ]
  },
  {
   "cell_type": "code",
   "execution_count": 123,
   "metadata": {
    "collapsed": true
   },
   "outputs": [],
   "source": [
    "train=pd.read_json('train_cleaned.json')\n",
    "train['listing_id']=train['listing_id'].apply(str)"
   ]
  },
  {
   "cell_type": "code",
   "execution_count": 219,
   "metadata": {
    "collapsed": false
   },
   "outputs": [
    {
     "data": {
      "text/plain": [
       "Index(['bathrooms', 'bedrooms', 'building_id', 'created', 'description',\n",
       "       'display_address', 'doorman', 'features', 'features_new', 'gym',\n",
       "       'hardwood', 'interest_level', 'latitude', 'laundry', 'listing_id',\n",
       "       'longitude', 'manager_id', 'no_fee', 'photos', 'price', 'reduce_fee',\n",
       "       'street_address', 'war', 'price_level', 'num_features', 'num_photos',\n",
       "       'num_description_words', 'created_year', 'created_month',\n",
       "       'created_day'],\n",
       "      dtype='object')"
      ]
     },
     "execution_count": 219,
     "metadata": {},
     "output_type": "execute_result"
    }
   ],
   "source": [
    "train.columns"
   ]
  },
  {
   "cell_type": "code",
   "execution_count": 125,
   "metadata": {
    "collapsed": false
   },
   "outputs": [
    {
     "data": {
      "text/plain": [
       "(49352, 23)"
      ]
     },
     "execution_count": 125,
     "metadata": {},
     "output_type": "execute_result"
    }
   ],
   "source": [
    "train.shape"
   ]
  },
  {
   "cell_type": "code",
   "execution_count": 126,
   "metadata": {
    "collapsed": true
   },
   "outputs": [],
   "source": [
    "test=pd.read_json('test_cleaned.json')\n",
    "test['listing_id']=test['listing_id'].apply(str)"
   ]
  },
  {
   "cell_type": "markdown",
   "metadata": {},
   "source": [
    "#### Building count and manager count"
   ]
  },
  {
   "cell_type": "code",
   "execution_count": 127,
   "metadata": {
    "collapsed": false
   },
   "outputs": [],
   "source": [
    "building_count=pd.DataFrame({'building':train['building_id'].append(test['building_id']),\n",
    "                             'count':pd.Series([1]*(train.shape[0]+test.shape[0]))}).pivot_table(index='building',\n",
    "                                                                                                 values='count',\n",
    "                                                                                                 aggfunc=sum)"
   ]
  },
  {
   "cell_type": "code",
   "execution_count": 128,
   "metadata": {
    "collapsed": false
   },
   "outputs": [],
   "source": [
    "building_count=pd.DataFrame(building_count)\n",
    "building_count.loc['0']=1\n",
    "building_count.columns=['building_listing_count']"
   ]
  },
  {
   "cell_type": "code",
   "execution_count": 129,
   "metadata": {
    "collapsed": true
   },
   "outputs": [],
   "source": [
    "manager_count=pd.DataFrame({'manager':train['manager_id'].append(test['manager_id']),\n",
    "                             'count':pd.Series([1]*(train.shape[0]+test.shape[0]))}).pivot_table(index='manager',\n",
    "                                                                                                 values='count',\n",
    "                                                                                                 aggfunc=sum)"
   ]
  },
  {
   "cell_type": "code",
   "execution_count": 130,
   "metadata": {
    "collapsed": true
   },
   "outputs": [],
   "source": [
    "manager_count=pd.DataFrame(manager_count)\n",
    "manager_count.columns=['manager_listing_count']"
   ]
  },
  {
   "cell_type": "markdown",
   "metadata": {},
   "source": [
    "#### Median price of neighbor"
   ]
  },
  {
   "cell_type": "code",
   "execution_count": 131,
   "metadata": {
    "collapsed": false
   },
   "outputs": [
    {
     "data": {
      "text/plain": [
       "bedrooms\n",
       "0     9475\n",
       "1    15752\n",
       "2    14623\n",
       "3     7276\n",
       "4     1929\n",
       "5      247\n",
       "6       46\n",
       "7        2\n",
       "8        2\n",
       "dtype: int64"
      ]
     },
     "execution_count": 131,
     "metadata": {},
     "output_type": "execute_result"
    }
   ],
   "source": [
    "train.groupby(['bedrooms']).apply(len)"
   ]
  },
  {
   "cell_type": "code",
   "execution_count": 11,
   "metadata": {
    "collapsed": true
   },
   "outputs": [],
   "source": [
    "def price_range(row):\n",
    "    ref_df=train.copy()\n",
    "    ref_df=ref_df[ref_df['bedrooms']==row['bedrooms']]\n",
    "    lon=row['longitude']\n",
    "    lat=row['latitude']\n",
    "    ref_df['dist']=abs(ref_df['longitude']-lon)+abs(ref_df['latitude']-lat)\n",
    "    neighbor_dist=np.percentile(ref_df['dist'],10)\n",
    "    ref_df=ref_df[ref_df['dist']<=neighbor_dist]\n",
    "    row['neighbor_median']=ref_df['price'].median()\n",
    "    return row"
   ]
  },
  {
   "cell_type": "code",
   "execution_count": 48,
   "metadata": {
    "collapsed": false
   },
   "outputs": [
    {
     "name": "stdout",
     "output_type": "stream",
     "text": [
      "15.667223930358887\n"
     ]
    }
   ],
   "source": [
    "t0=time()\n",
    "train[train['bedrooms']==5].apply(price_range,axis=1)\n",
    "print(time()-t0)"
   ]
  },
  {
   "cell_type": "code",
   "execution_count": 136,
   "metadata": {
    "collapsed": false
   },
   "outputs": [],
   "source": [
    "median_price_ref=pd.concat([train[['bedrooms','price']],test[['bedrooms','price']]]).groupby(['bedrooms']).median()['price']"
   ]
  },
  {
   "cell_type": "code",
   "execution_count": 137,
   "metadata": {
    "collapsed": false
   },
   "outputs": [
    {
     "data": {
      "text/plain": [
       "bedrooms\n",
       "0     2400.0\n",
       "1     2900.0\n",
       "2     3350.0\n",
       "3     4500.0\n",
       "4     5900.0\n",
       "5     8109.0\n",
       "6     8000.0\n",
       "7    12750.0\n",
       "8     8247.5\n",
       "Name: price, dtype: float64"
      ]
     },
     "execution_count": 137,
     "metadata": {},
     "output_type": "execute_result"
    }
   ],
   "source": [
    "median_price_ref"
   ]
  },
  {
   "cell_type": "code",
   "execution_count": 138,
   "metadata": {
    "collapsed": true
   },
   "outputs": [],
   "source": [
    "def price_compare(row):\n",
    "    row['price_level']=row['price']/median_price_ref.loc[row['bedrooms']]\n",
    "    return row"
   ]
  },
  {
   "cell_type": "code",
   "execution_count": 139,
   "metadata": {
    "collapsed": false
   },
   "outputs": [],
   "source": [
    "train=train.apply(price_compare,axis=1)\n",
    "test=test.apply(price_compare,axis=1)"
   ]
  },
  {
   "cell_type": "markdown",
   "metadata": {},
   "source": [
    "#### Execute numerical feature engineering"
   ]
  },
  {
   "cell_type": "code",
   "execution_count": 140,
   "metadata": {
    "collapsed": false
   },
   "outputs": [],
   "source": [
    "def feature_engineer(df):\n",
    "    df[\"num_features\"] =df[\"features\"].apply(len)\n",
    "    df[\"num_photos\"] =df[\"photos\"].apply(len)\n",
    "    df[\"num_description_words\"] = df[\"description\"].apply(lambda x: len(x.split(\" \")))\n",
    "    df[\"created\"] = pd.to_datetime(df[\"created\"])\n",
    "    df[\"created_year\"] = df[\"created\"].dt.year\n",
    "    df[\"created_month\"] = df[\"created\"].dt.month\n",
    "    df[\"created_day\"] = df[\"created\"].dt.day\n",
    "    df=df.merge(building_count,how='left',left_on='building_id',right_index=True).merge(manager_count,how='left',left_on='manager_id',right_index=True)\n",
    "    \n",
    "    return df"
   ]
  },
  {
   "cell_type": "code",
   "execution_count": 142,
   "metadata": {
    "collapsed": false
   },
   "outputs": [],
   "source": [
    "train_processed=feature_engineer(train)\n",
    "test_processed=feature_engineer(test)"
   ]
  },
  {
   "cell_type": "markdown",
   "metadata": {},
   "source": [
    "### Model Training"
   ]
  },
  {
   "cell_type": "code",
   "execution_count": 143,
   "metadata": {
    "collapsed": true
   },
   "outputs": [],
   "source": [
    "def feature_scaling(features):\n",
    "    scaled=[]\n",
    "    for feature in np.array(features).T:\n",
    "        min_val=min(feature)\n",
    "        max_val=max(feature)\n",
    "        scaled_feature=(feature-min_val)/float(max_val-min_val)\n",
    "        scaled.append(scaled_feature)\n",
    "    return np.array(scaled).T"
   ]
  },
  {
   "cell_type": "code",
   "execution_count": 144,
   "metadata": {
    "collapsed": false
   },
   "outputs": [],
   "source": [
    "from sklearn.model_selection import GridSearchCV\n",
    "from sklearn.model_selection import StratifiedKFold\n",
    "from sklearn.model_selection import train_test_split\n",
    "from sklearn.model_selection import StratifiedShuffleSplit\n",
    "from sklearn.metrics import log_loss"
   ]
  },
  {
   "cell_type": "markdown",
   "metadata": {},
   "source": [
    "#### Remove outliers"
   ]
  },
  {
   "cell_type": "code",
   "execution_count": 145,
   "metadata": {
    "collapsed": false
   },
   "outputs": [],
   "source": [
    "train_processed=train_processed[train_processed['price']<=np.percentile(train_processed['price'],99)]"
   ]
  },
  {
   "cell_type": "markdown",
   "metadata": {},
   "source": [
    "#### Create features and labels array"
   ]
  },
  {
   "cell_type": "code",
   "execution_count": 146,
   "metadata": {
    "collapsed": false
   },
   "outputs": [],
   "source": [
    "target_num_map = {'high':0, 'medium':1, 'low':2}\n",
    "labels=train_processed['interest_level'].apply(lambda x: target_num_map[x]).as_matrix()"
   ]
  },
  {
   "cell_type": "markdown",
   "metadata": {},
   "source": [
    "#### Experiment 1: DecisionTree"
   ]
  },
  {
   "cell_type": "code",
   "execution_count": 147,
   "metadata": {
    "collapsed": true
   },
   "outputs": [],
   "source": [
    "from sklearn.tree import DecisionTreeClassifier"
   ]
  },
  {
   "cell_type": "code",
   "execution_count": 163,
   "metadata": {
    "collapsed": false
   },
   "outputs": [],
   "source": [
    "feature_names=['bedrooms','price','num_photos','longitude','latitude','price_level']\n",
    "features=train_processed[feature_names].as_matrix()"
   ]
  },
  {
   "cell_type": "code",
   "execution_count": 166,
   "metadata": {
    "collapsed": false
   },
   "outputs": [
    {
     "name": "stdout",
     "output_type": "stream",
     "text": [
      "-0.698849188949\n",
      "-0.698468261904\n",
      "-0.707435435125\n",
      "-0.701077265813\n",
      "-0.705920889542\n"
     ]
    }
   ],
   "source": [
    "cv=StratifiedShuffleSplit(n_splits=5, test_size=0.3)\n",
    "\n",
    "clf=DecisionTreeClassifier(max_depth=5)\n",
    "\n",
    "for train_idx, test_idx in cv.split(features, labels): \n",
    "    features_train,labels_train = features[train_idx],labels[train_idx]\n",
    "    features_test,labels_test = features[test_idx],labels[test_idx]\n",
    "    clf.fit(features_train,labels_train)\n",
    "    print((-1)*log_loss(labels_test,clf.predict_proba(features_test)))\n",
    "\n"
   ]
  },
  {
   "cell_type": "code",
   "execution_count": 167,
   "metadata": {
    "collapsed": false
   },
   "outputs": [
    {
     "name": "stdout",
     "output_type": "stream",
     "text": [
      "bedrooms : 0.0111777896628\n",
      "price : 0.120224277769\n",
      "num_photos : 0.15323955148\n",
      "longitude : 0.0901118505266\n",
      "latitude : 0.0230554244634\n",
      "price_level : 0.602191106098\n"
     ]
    }
   ],
   "source": [
    "for i in range(len(feature_names)):\n",
    "    print(feature_names[i],\":\",clf.feature_importances_[i])"
   ]
  },
  {
   "cell_type": "code",
   "execution_count": 168,
   "metadata": {
    "collapsed": false
   },
   "outputs": [],
   "source": [
    "param_grid = {'max_depth':[3,5,8],\n",
    "              'min_samples_split':[2,3,5,8,10]\n",
    "          }\n",
    "\n",
    "clf= GridSearchCV(DecisionTreeClassifier(), param_grid=param_grid,cv=10,scoring='neg_log_loss')"
   ]
  },
  {
   "cell_type": "code",
   "execution_count": 169,
   "metadata": {
    "collapsed": false
   },
   "outputs": [
    {
     "data": {
      "text/plain": [
       "GridSearchCV(cv=10, error_score='raise',\n",
       "       estimator=DecisionTreeClassifier(class_weight=None, criterion='gini', max_depth=None,\n",
       "            max_features=None, max_leaf_nodes=None,\n",
       "            min_impurity_split=1e-07, min_samples_leaf=1,\n",
       "            min_samples_split=2, min_weight_fraction_leaf=0.0,\n",
       "            presort=False, random_state=None, splitter='best'),\n",
       "       fit_params={}, iid=True, n_jobs=1,\n",
       "       param_grid={'max_depth': [3, 5, 8], 'min_samples_split': [2, 3, 5, 8, 10]},\n",
       "       pre_dispatch='2*n_jobs', refit=True, return_train_score=True,\n",
       "       scoring='neg_log_loss', verbose=0)"
      ]
     },
     "execution_count": 169,
     "metadata": {},
     "output_type": "execute_result"
    }
   ],
   "source": [
    "clf.fit(features,labels)"
   ]
  },
  {
   "cell_type": "code",
   "execution_count": 170,
   "metadata": {
    "collapsed": false
   },
   "outputs": [
    {
     "name": "stdout",
     "output_type": "stream",
     "text": [
      "Best estimator found by grid search:\n",
      "DecisionTreeClassifier(class_weight=None, criterion='gini', max_depth=5,\n",
      "            max_features=None, max_leaf_nodes=None,\n",
      "            min_impurity_split=1e-07, min_samples_leaf=1,\n",
      "            min_samples_split=8, min_weight_fraction_leaf=0.0,\n",
      "            presort=False, random_state=None, splitter='best')\n",
      "Best score:\n",
      "-0.698242279097\n"
     ]
    }
   ],
   "source": [
    "print(\"Best estimator found by grid search:\")\n",
    "print(clf.best_estimator_)\n",
    "\n",
    "print(\"Best score:\")\n",
    "print(clf.best_score_)"
   ]
  },
  {
   "cell_type": "code",
   "execution_count": 171,
   "metadata": {
    "collapsed": false
   },
   "outputs": [],
   "source": [
    "clf=clf.best_estimator_"
   ]
  },
  {
   "cell_type": "code",
   "execution_count": 172,
   "metadata": {
    "collapsed": false
   },
   "outputs": [
    {
     "name": "stdout",
     "output_type": "stream",
     "text": [
      "bedrooms : 0.011176231697\n",
      "price : 0.116193271735\n",
      "num_photos : 0.154261581982\n",
      "longitude : 0.0704617897998\n",
      "latitude : 0.0255456356251\n",
      "price_level : 0.622361489161\n"
     ]
    }
   ],
   "source": [
    "for i in range(len(feature_names)):\n",
    "    print(feature_names[i],\":\",clf.feature_importances_[i])"
   ]
  },
  {
   "cell_type": "markdown",
   "metadata": {},
   "source": [
    "#### Submission code"
   ]
  },
  {
   "cell_type": "code",
   "execution_count": 118,
   "metadata": {
    "collapsed": false
   },
   "outputs": [],
   "source": [
    "pred_result=clf.predict_proba(test_processed[feature_names].as_matrix())"
   ]
  },
  {
   "cell_type": "code",
   "execution_count": 119,
   "metadata": {
    "collapsed": false
   },
   "outputs": [],
   "source": [
    "submission=pd.DataFrame({'listing_id':test_processed['listing_id'],'high':pred_result.T[0],'medium':pred_result.T[1],'low':pred_result.T[2]})"
   ]
  },
  {
   "cell_type": "code",
   "execution_count": 69,
   "metadata": {
    "collapsed": false
   },
   "outputs": [],
   "source": [
    "submission.to_csv('submission_dt.csv',index=False)"
   ]
  },
  {
   "cell_type": "code",
   "execution_count": 119,
   "metadata": {
    "collapsed": false
   },
   "outputs": [],
   "source": [
    "# Extract tree structure from clf\n",
    "'''\n",
    "root=clf.tree_\n",
    "n_nodes = root.node_count\n",
    "children_left = root.children_left\n",
    "children_right = root.children_right\n",
    "feature = root.feature\n",
    "threshold = root.threshold\n",
    "'''"
   ]
  },
  {
   "cell_type": "markdown",
   "metadata": {},
   "source": [
    "#### Experiment 2: Naive Bayes"
   ]
  },
  {
   "cell_type": "code",
   "execution_count": 84,
   "metadata": {
    "collapsed": true
   },
   "outputs": [],
   "source": [
    "from sklearn.naive_bayes import GaussianNB"
   ]
  },
  {
   "cell_type": "code",
   "execution_count": 85,
   "metadata": {
    "collapsed": false
   },
   "outputs": [],
   "source": [
    "clf=GaussianNB()"
   ]
  },
  {
   "cell_type": "code",
   "execution_count": 92,
   "metadata": {
    "collapsed": true
   },
   "outputs": [],
   "source": [
    "feature_names=['bedrooms','price','num_photos']\n",
    "features=train_processed[feature_names].as_matrix()\n",
    "features=feature_scaling(features)"
   ]
  },
  {
   "cell_type": "code",
   "execution_count": 93,
   "metadata": {
    "collapsed": false
   },
   "outputs": [
    {
     "name": "stdout",
     "output_type": "stream",
     "text": [
      "0.787472415811\n",
      "0.786773794246\n",
      "0.781576770784\n",
      "0.778475503385\n",
      "0.784980624289\n"
     ]
    }
   ],
   "source": [
    "cv=StratifiedShuffleSplit(n_splits=5, test_size=0.3)\n",
    "\n",
    "for train_idx, test_idx in cv.split(features, labels): \n",
    "    features_train,labels_train = features[train_idx],labels[train_idx]\n",
    "    features_test,labels_test = features[test_idx],labels[test_idx]\n",
    "    clf.fit(features_train,labels_train)\n",
    "    print((-1)*log_loss(labels_test,clf.predict_proba(features_test)))"
   ]
  },
  {
   "cell_type": "markdown",
   "metadata": {},
   "source": [
    "#### Experiment 3: Random Foreset"
   ]
  },
  {
   "cell_type": "code",
   "execution_count": 173,
   "metadata": {
    "collapsed": true
   },
   "outputs": [],
   "source": [
    "from sklearn.ensemble import RandomForestClassifier"
   ]
  },
  {
   "cell_type": "code",
   "execution_count": 201,
   "metadata": {
    "collapsed": true
   },
   "outputs": [],
   "source": [
    "feature_names=['longitude','latitude',\n",
    "               'price_level','bathrooms','bedrooms','price',\n",
    "               'num_photos','num_features','num_description_words',\n",
    "               'hardwood','doorman','no_fee','reduce_fee','laundry','gym','war']\n",
    "features=train_processed[feature_names].as_matrix()"
   ]
  },
  {
   "cell_type": "code",
   "execution_count": 202,
   "metadata": {
    "collapsed": true
   },
   "outputs": [],
   "source": [
    "clf=RandomForestClassifier(n_estimators=1000,max_depth=5)"
   ]
  },
  {
   "cell_type": "code",
   "execution_count": 203,
   "metadata": {
    "collapsed": false
   },
   "outputs": [
    {
     "name": "stdout",
     "output_type": "stream",
     "text": [
      "-0.671963431474\n",
      "-0.677917618236\n"
     ]
    }
   ],
   "source": [
    "cv=StratifiedShuffleSplit(n_splits=2, test_size=0.3)\n",
    "for train_idx, test_idx in cv.split(features, labels): \n",
    "    features_train,labels_train = features[train_idx],labels[train_idx]\n",
    "    features_test,labels_test = features[test_idx],labels[test_idx]\n",
    "    clf.fit(features_train,labels_train)\n",
    "    print((-1)*log_loss(labels_test,clf.predict_proba(features_test)))\n"
   ]
  },
  {
   "cell_type": "code",
   "execution_count": 204,
   "metadata": {
    "collapsed": false
   },
   "outputs": [
    {
     "name": "stdout",
     "output_type": "stream",
     "text": [
      "longitude : 0.0289308087806\n",
      "latitude : 0.030139063176\n",
      "price_level : 0.393549353188\n",
      "bathrooms : 0.00655105597733\n",
      "bedrooms : 0.0195617548945\n",
      "price : 0.188904099587\n",
      "num_photos : 0.0883306847973\n",
      "num_features : 0.0145228813799\n",
      "num_description_words : 0.0259108924559\n",
      "hardwood : 0.050308253761\n",
      "doorman : 0.00825654159077\n",
      "no_fee : 0.086410001893\n",
      "reduce_fee : 0.0124049295012\n",
      "laundry : 0.0203996679266\n",
      "gym : 0.00254198911979\n",
      "war : 0.0232780219711\n"
     ]
    }
   ],
   "source": [
    "for i in range(len(feature_names)):\n",
    "    print(feature_names[i],\":\",clf.feature_importances_[i])"
   ]
  },
  {
   "cell_type": "markdown",
   "metadata": {},
   "source": [
    "#### Submission"
   ]
  },
  {
   "cell_type": "code",
   "execution_count": 205,
   "metadata": {
    "collapsed": false
   },
   "outputs": [
    {
     "data": {
      "text/plain": [
       "RandomForestClassifier(bootstrap=True, class_weight=None, criterion='gini',\n",
       "            max_depth=5, max_features='auto', max_leaf_nodes=None,\n",
       "            min_impurity_split=1e-07, min_samples_leaf=1,\n",
       "            min_samples_split=2, min_weight_fraction_leaf=0.0,\n",
       "            n_estimators=1000, n_jobs=1, oob_score=False,\n",
       "            random_state=None, verbose=0, warm_start=False)"
      ]
     },
     "execution_count": 205,
     "metadata": {},
     "output_type": "execute_result"
    }
   ],
   "source": [
    "clf.fit(features,labels)"
   ]
  },
  {
   "cell_type": "code",
   "execution_count": 206,
   "metadata": {
    "collapsed": true
   },
   "outputs": [],
   "source": [
    "test_features=test_processed[feature_names].as_matrix()"
   ]
  },
  {
   "cell_type": "code",
   "execution_count": 207,
   "metadata": {
    "collapsed": false
   },
   "outputs": [],
   "source": [
    "pred_result=clf.predict_proba(test_features)"
   ]
  },
  {
   "cell_type": "code",
   "execution_count": 208,
   "metadata": {
    "collapsed": false
   },
   "outputs": [],
   "source": [
    "submission=pd.DataFrame({'listing_id':test_processed['listing_id'],'high':pred_result.T[0],'medium':pred_result.T[1],'low':pred_result.T[2]})"
   ]
  },
  {
   "cell_type": "code",
   "execution_count": 209,
   "metadata": {
    "collapsed": false
   },
   "outputs": [],
   "source": [
    "submission.to_csv('submission_rf.csv',index=False)"
   ]
  },
  {
   "cell_type": "markdown",
   "metadata": {},
   "source": [
    "#### Experiment 4: Neural Network"
   ]
  },
  {
   "cell_type": "code",
   "execution_count": 238,
   "metadata": {
    "collapsed": true
   },
   "outputs": [],
   "source": [
    "def feature_scaling_new(features_train,features_test):\n",
    "    scaled_train=[]\n",
    "    scaled_test=[]\n",
    "    for i in range(len(np.array(features_train).T)):\n",
    "        min_val=min(features_train.T[i])\n",
    "        max_val=max(features_train.T[i])\n",
    "        scaled_train_feature=(features_train.T[i]-min_val)/float(max_val-min_val)\n",
    "        scaled_train.append(scaled_train_feature)\n",
    "        \n",
    "        scaled_test_feature=(features_test.T[i]-min_val)/float(max_val-min_val)\n",
    "        scaled_test.append(scaled_test_feature)        \n",
    "    return (np.array(scaled_train).T,np.array(scaled_test).T)"
   ]
  },
  {
   "cell_type": "code",
   "execution_count": 239,
   "metadata": {
    "collapsed": false
   },
   "outputs": [],
   "source": [
    "from sklearn.neural_network import MLPClassifier"
   ]
  },
  {
   "cell_type": "code",
   "execution_count": 240,
   "metadata": {
    "collapsed": false
   },
   "outputs": [],
   "source": [
    "#feature_names=['longitude','latitude','bathrooms','bedrooms','price','num_photos','num_features','num_description_words','hardwood','doorman','no_fee','reduce_fee','laundry','gym','war']\n",
    "feature_names=['longitude','latitude',\n",
    "               'price_level','bathrooms','bedrooms','price',\n",
    "               'num_photos','num_features','num_description_words',\n",
    "               'hardwood','doorman','no_fee','reduce_fee','laundry','gym','war']\n",
    "\n",
    "features_tr=train_processed[feature_names].as_matrix()\n",
    "features_te=test_processed[feature_names].as_matrix()\n",
    "\n",
    "(features_tr,features_te)=feature_scaling_new(features_tr,features_te)"
   ]
  },
  {
   "cell_type": "code",
   "execution_count": 241,
   "metadata": {
    "collapsed": true
   },
   "outputs": [],
   "source": [
    "clf=MLPClassifier(hidden_layer_sizes=(100,100))"
   ]
  },
  {
   "cell_type": "code",
   "execution_count": 242,
   "metadata": {
    "collapsed": false
   },
   "outputs": [
    {
     "name": "stdout",
     "output_type": "stream",
     "text": [
      "-0.655872681081\n",
      "-0.661951006859\n",
      "-0.655237983005\n"
     ]
    }
   ],
   "source": [
    "cv=StratifiedShuffleSplit(n_splits=3, test_size=0.5)\n",
    "for train_idx, test_idx in cv.split(features_tr, labels): \n",
    "    features_train,labels_train = features[train_idx],labels[train_idx]\n",
    "    features_test,labels_test = features[test_idx],labels[test_idx]\n",
    "    clf.fit(features_train,labels_train)\n",
    "    print((-1)*log_loss(labels_test,clf.predict_proba(features_test)))"
   ]
  },
  {
   "cell_type": "markdown",
   "metadata": {},
   "source": [
    "#### Submission"
   ]
  },
  {
   "cell_type": "code",
   "execution_count": 244,
   "metadata": {
    "collapsed": false
   },
   "outputs": [
    {
     "data": {
      "text/plain": [
       "MLPClassifier(activation='relu', alpha=0.0001, batch_size='auto', beta_1=0.9,\n",
       "       beta_2=0.999, early_stopping=False, epsilon=1e-08,\n",
       "       hidden_layer_sizes=(100, 100), learning_rate='constant',\n",
       "       learning_rate_init=0.001, max_iter=200, momentum=0.9,\n",
       "       nesterovs_momentum=True, power_t=0.5, random_state=None,\n",
       "       shuffle=True, solver='adam', tol=0.0001, validation_fraction=0.1,\n",
       "       verbose=False, warm_start=False)"
      ]
     },
     "execution_count": 244,
     "metadata": {},
     "output_type": "execute_result"
    }
   ],
   "source": [
    "clf.fit(features_tr,labels)"
   ]
  },
  {
   "cell_type": "code",
   "execution_count": 245,
   "metadata": {
    "collapsed": false
   },
   "outputs": [],
   "source": [
    "pred_result=clf.predict_proba(features_te)"
   ]
  },
  {
   "cell_type": "code",
   "execution_count": 248,
   "metadata": {
    "collapsed": false
   },
   "outputs": [],
   "source": [
    "submission=pd.DataFrame({'listing_id':test_processed['listing_id'],'high':pred_result.T[0],'medium':pred_result.T[1],'low':pred_result.T[2]})"
   ]
  },
  {
   "cell_type": "code",
   "execution_count": 249,
   "metadata": {
    "collapsed": false
   },
   "outputs": [],
   "source": [
    "submission.to_csv('submission_nn.csv',index=False)"
   ]
  },
  {
   "cell_type": "markdown",
   "metadata": {},
   "source": [
    "#### Other Ideas"
   ]
  },
  {
   "cell_type": "markdown",
   "metadata": {},
   "source": [
    "- Use open street map and lon/lat to check the prosperity of neighborhood?"
   ]
  },
  {
   "cell_type": "code",
   "execution_count": 114,
   "metadata": {
    "collapsed": false
   },
   "outputs": [
    {
     "data": {
      "image/png": "[encoded data removed]",
      "text/plain": [
       "<matplotlib.figure.Figure at 0x289add64470>"
      ]
     },
     "metadata": {},
     "output_type": "display_data"
    }
   ],
   "source": [
    "plt.hist(train['longitude'],range=(-74.2,-73.8),bins=100)\n",
    "plt.show()"
   ]
  },
  {
   "cell_type": "code",
   "execution_count": null,
   "metadata": {
    "collapsed": true
   },
   "outputs": [],
   "source": []
  }
 ],
 "metadata": {
  "anaconda-cloud": {},
  "kernelspec": {
   "display_name": "Python [Root]",
   "language": "python",
   "name": "Python [Root]"
  },
  "language_info": {
   "codemirror_mode": {
    "name": "ipython",
    "version": 3
   },
   "file_extension": ".py",
   "mimetype": "text/x-python",
   "name": "python",
   "nbconvert_exporter": "python",
   "pygments_lexer": "ipython3",
   "version": "3.5.2"
  }
 },
 "nbformat": 4,
 "nbformat_minor": 0
}
