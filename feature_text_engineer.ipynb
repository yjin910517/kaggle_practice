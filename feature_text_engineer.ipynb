{
 "cells": [
  {
   "cell_type": "code",
   "execution_count": 1,
   "metadata": {
    "collapsed": true
   },
   "outputs": [],
   "source": [
    "import pandas as pd\n",
    "import numpy as np\n",
    "import re\n",
    "import itertools as it\n",
    "from time import time"
   ]
  },
  {
   "cell_type": "code",
   "execution_count": 2,
   "metadata": {
    "collapsed": true
   },
   "outputs": [],
   "source": [
    "train=pd.read_json('train.json')\n",
    "train['listing_id']=train['listing_id'].apply(str)\n",
    "test=pd.read_json('test.json')\n",
    "test['listing_id']=test['listing_id'].apply(str)"
   ]
  },
  {
   "cell_type": "markdown",
   "metadata": {},
   "source": [
    "### Gather and observe all original features"
   ]
  },
  {
   "cell_type": "code",
   "execution_count": 215,
   "metadata": {
    "collapsed": false
   },
   "outputs": [
    {
     "data": {
      "text/plain": [
       "267906"
      ]
     },
     "execution_count": 215,
     "metadata": {},
     "output_type": "execute_result"
    }
   ],
   "source": [
    "feature_total=[]\n",
    "train['features'].apply(lambda x: feature_total.append(x))\n",
    "feature_total=list(it.chain.from_iterable(feature_total))\n",
    "len(feature_total)"
   ]
  },
  {
   "cell_type": "code",
   "execution_count": 216,
   "metadata": {
    "collapsed": false
   },
   "outputs": [
    {
     "data": {
      "text/plain": [
       "1556"
      ]
     },
     "execution_count": 216,
     "metadata": {},
     "output_type": "execute_result"
    }
   ],
   "source": [
    "uniq_feature_total=set(feature_total)\n",
    "len(uniq_feature_total)"
   ]
  },
  {
   "cell_type": "code",
   "execution_count": 217,
   "metadata": {
    "collapsed": false
   },
   "outputs": [
    {
     "data": {
      "text/plain": [
       "['Air conditioning',\n",
       " 'fitness facility',\n",
       " '1st',\n",
       " \"** HOLY DEAL BATMAN! * SPRAWLING 3BR HOME * COOK'S KITCHEN * 2 BLKS TO WATERFRONT * BEDFORD L STOP **\",\n",
       " 'private roof deck',\n",
       " 'Children’s Playroom.',\n",
       " 'Yoga Room',\n",
       " 'All Utilities included',\n",
       " 'children’s playroom',\n",
       " 'heated lap pool']"
      ]
     },
     "execution_count": 217,
     "metadata": {},
     "output_type": "execute_result"
    }
   ],
   "source": [
    "list(uniq_feature_total)[:10]"
   ]
  },
  {
   "cell_type": "markdown",
   "metadata": {},
   "source": [
    "#### Findings:\n",
    "1. For many listings, the features are linked with \\*, which should be separated.\n",
    "2. The uppercase letters should be tranfered to lowercase, which will be taken care of later. "
   ]
  },
  {
   "cell_type": "code",
   "execution_count": 3,
   "metadata": {
    "collapsed": true
   },
   "outputs": [],
   "source": [
    "def feature_star_sep(feature_list):\n",
    "    '''\n",
    "    Seperate feature text with * or • as separator\n",
    "    '''\n",
    "    new_list=[]\n",
    "    for feature in feature_list:\n",
    "        if feature[:2]=='**':\n",
    "            new=feature[3:-3]\n",
    "            new_list+new.split(\" * \")\n",
    "        elif feature[:1]=='•':\n",
    "            new=feature[2:]\n",
    "            new_list+new.split(\" • \")            \n",
    "        else:\n",
    "            new_list.append(feature)\n",
    "            \n",
    "    return new_list"
   ]
  },
  {
   "cell_type": "code",
   "execution_count": 4,
   "metadata": {
    "collapsed": false
   },
   "outputs": [],
   "source": [
    "train['features']=train['features'].apply(feature_star_sep)\n",
    "test['features']=test['features'].apply(feature_star_sep)"
   ]
  },
  {
   "cell_type": "markdown",
   "metadata": {},
   "source": [
    "### Adopt DecisionTree on feature text"
   ]
  },
  {
   "cell_type": "code",
   "execution_count": 5,
   "metadata": {
    "collapsed": true
   },
   "outputs": [],
   "source": [
    "from sklearn.feature_extraction.text import CountVectorizer"
   ]
  },
  {
   "cell_type": "code",
   "execution_count": 6,
   "metadata": {
    "collapsed": false
   },
   "outputs": [],
   "source": [
    "## Code copied from @sudalairajkumar \n",
    "vec=CountVectorizer(stop_words='english', max_features=200)\n",
    "train['features_new'] = train[\"features\"].apply(lambda y: \" \".join([\"_\".join(x.split(\" \")).lower() for x in y]))\n",
    "tr_sparse = vec.fit_transform(train[\"features_new\"])\n",
    "feature_names=vec.get_feature_names()"
   ]
  },
  {
   "cell_type": "code",
   "execution_count": 7,
   "metadata": {
    "collapsed": true
   },
   "outputs": [],
   "source": [
    "test['features_new'] = test[\"features\"].apply(lambda y: \" \".join([\"_\".join(x.split(\" \")).lower() for x in y]))"
   ]
  },
  {
   "cell_type": "code",
   "execution_count": 184,
   "metadata": {
    "collapsed": true
   },
   "outputs": [],
   "source": [
    "from sklearn.tree import DecisionTreeClassifier\n",
    "from sklearn.model_selection import StratifiedShuffleSplit\n",
    "from sklearn.metrics import log_loss"
   ]
  },
  {
   "cell_type": "code",
   "execution_count": 185,
   "metadata": {
    "collapsed": false
   },
   "outputs": [],
   "source": [
    "target_num_map = {'high':0, 'medium':1, 'low':2}\n",
    "features=tr_sparse.toarray()\n",
    "labels=train['interest_level'].apply(lambda x: target_num_map[x]).as_matrix()"
   ]
  },
  {
   "cell_type": "code",
   "execution_count": 186,
   "metadata": {
    "collapsed": false
   },
   "outputs": [],
   "source": [
    "clf=DecisionTreeClassifier(max_depth=5)"
   ]
  },
  {
   "cell_type": "code",
   "execution_count": 190,
   "metadata": {
    "collapsed": false
   },
   "outputs": [
    {
     "name": "stdout",
     "output_type": "stream",
     "text": [
      "log loss: -0.746\n",
      "high importance features:\n",
      "   doorman 0.146\n",
      "   hardwood_floors 0.262\n",
      "   laundry_in_building 0.092\n",
      "   no_fee 0.096\n",
      "   reduced_fee 0.121\n",
      "   war 0.065\n",
      "log loss: -0.766\n",
      "high importance features:\n",
      "   doorman 0.152\n",
      "   fitness_center 0.082\n",
      "   hardwood_floors 0.138\n",
      "   laundry_in_building 0.072\n",
      "   no_fee 0.282\n",
      "   reduced_fee 0.116\n",
      "log loss: -0.757\n",
      "high importance features:\n",
      "   doorman 0.151\n",
      "   fitness_center 0.052\n",
      "   hardwood_floors 0.133\n",
      "   laundry_in_building 0.071\n",
      "   no_fee 0.279\n",
      "   reduced_fee 0.123\n",
      "   war 0.06\n"
     ]
    }
   ],
   "source": [
    "cv=StratifiedShuffleSplit(n_splits=3, test_size=0.3)\n",
    "\n",
    "for train_idx, test_idx in cv.split(features, labels): \n",
    "    features_train,labels_train = features[train_idx],labels[train_idx]\n",
    "    features_test,labels_test = features[test_idx],labels[test_idx]\n",
    "    clf.fit(features_train,labels_train)\n",
    "    print(\"log loss:\",(-1)*round(log_loss(labels_test,clf.predict_proba(features_test)),3))\n",
    "    \n",
    "    ## Print out features with high importance\n",
    "    print('high importance features:')\n",
    "    for idx in np.where(clf.feature_importances_>0.05)[0]:\n",
    "        print(\"  \",feature_names[idx],round(clf.feature_importances_[idx],3))\n",
    "        "
   ]
  },
  {
   "cell_type": "markdown",
   "metadata": {},
   "source": [
    "### Check important features"
   ]
  },
  {
   "cell_type": "markdown",
   "metadata": {},
   "source": [
    "Some important features:\n",
    "- hardwood floors\n",
    "- doorman\n",
    "- reduced fee\n",
    "- no fee\n",
    "\n",
    "Other candidates:\n",
    "- war\n",
    "- laundry\n",
    "- fitness/gym"
   ]
  },
  {
   "cell_type": "code",
   "execution_count": 191,
   "metadata": {
    "collapsed": false
   },
   "outputs": [],
   "source": [
    "feature_total=[]\n",
    "train['features'].apply(lambda x: feature_total.append(x))\n",
    "feature_total=list(it.chain.from_iterable(feature_total))\n",
    "uniq_feature_total=list(set(feature_total))"
   ]
  },
  {
   "cell_type": "code",
   "execution_count": 192,
   "metadata": {
    "collapsed": true
   },
   "outputs": [],
   "source": [
    "def re_search(key):\n",
    "    '''\n",
    "    Present all features with specific re pattern\n",
    "    '''\n",
    "    result=[]\n",
    "    my_reg=r\"\"+key\n",
    "    for item in uniq_feature_total:\n",
    "        if re.compile(my_reg ,re.IGNORECASE).search(item)!=None:\n",
    "            result.append(item)\n",
    "    return result"
   ]
  },
  {
   "cell_type": "code",
   "execution_count": 193,
   "metadata": {
    "collapsed": false
   },
   "outputs": [
    {
     "data": {
      "text/plain": [
       "['boating hardwood floors',\n",
       " 'Hardwood Floors',\n",
       " 'Hardwood',\n",
       " 'Polished Hardwood Floors',\n",
       " 'HARDWOOD',\n",
       " 'HARDWOOD FLOORS',\n",
       " 'and stainless steel appliances with a dishwasher well maintained hardwood floors add to the warmth and modern feel of the space.',\n",
       " 'Hardwood floors',\n",
       " 'NO FEE HARDWOOD FLOORS',\n",
       " 'Hardwood floor',\n",
       " 'Exposed BrickHardwood Floors MicrowaveRenovated open view Excellent',\n",
       " 'Hardwood Floor',\n",
       " 'hardwood floors',\n",
       " 'Hardwood Flooring',\n",
       " 'Hardwood Flooring Throughout',\n",
       " 'Redwood Hardwood Floor',\n",
       " 'hardwood  floors']"
      ]
     },
     "execution_count": 193,
     "metadata": {},
     "output_type": "execute_result"
    }
   ],
   "source": [
    "# Check all text including 'hardwood'\n",
    "re_search('hardwood')"
   ]
  },
  {
   "cell_type": "code",
   "execution_count": 194,
   "metadata": {
    "collapsed": false
   },
   "outputs": [
    {
     "data": {
      "text/plain": [
       "['24 hr doorman',\n",
       " '24 Hour Doorman Concierge',\n",
       " '24hr doorman',\n",
       " '24 Hour Doorman',\n",
       " '24-hour doorman',\n",
       " 'Full-time Doorman',\n",
       " 'NO FEE...LUXURY DOORMAN BUILDING^^^RIVER VIEWS',\n",
       " '24hr Doorman',\n",
       " 'virtual doorman',\n",
       " '24 hour doorman',\n",
       " '24/7 Doorman Concierge',\n",
       " 'Twenty-four-hour concierge and doorman',\n",
       " 'Full-time doorman',\n",
       " '24/7 Full-Time Doorman Concierge',\n",
       " 'Part-time doorman',\n",
       " '24/7 Doorman',\n",
       " 'Doorman',\n",
       " '24HR Doorman',\n",
       " 'doorman',\n",
       " '24hr white-gloved doorman',\n",
       " 'FT Doorman',\n",
       " 'Virtual Doorman',\n",
       " '24-hour concierge and doorman',\n",
       " '24/7 DOORMAN',\n",
       " 'Twenty-four hour concierge and doorman']"
      ]
     },
     "execution_count": 194,
     "metadata": {},
     "output_type": "execute_result"
    }
   ],
   "source": [
    "# Check all text including 'doorman'\n",
    "re_search('doorman')"
   ]
  },
  {
   "cell_type": "code",
   "execution_count": 196,
   "metadata": {
    "collapsed": false
   },
   "outputs": [
    {
     "data": {
      "text/plain": [
       "['No application fee!',\n",
       " 'NO FEE!!',\n",
       " 'NO FEE!!!Roof Deck',\n",
       " 'One Month Fee',\n",
       " 'BROKER FEE.',\n",
       " 'Owner Occupied - 3 family townhouse - no realtor fees - this beautiful apt is offered below market rate',\n",
       " '1/2 Month Fee',\n",
       " \"No Broker's Fees\",\n",
       " 'LIMITED TIME - NO FEE',\n",
       " 'No Broker Fee',\n",
       " 'NO FEE...LUXURY DOORMAN BUILDING^^^RIVER VIEWS',\n",
       " 'No fee',\n",
       " 'NO FEE!!!',\n",
       " 'No Fee!',\n",
       " 'NO FEE!',\n",
       " 'Low Fee',\n",
       " 'Reduced Fee',\n",
       " 'Parking spot with additional fee',\n",
       " 'No Fee',\n",
       " 'NO FEE',\n",
       " 'No Fee!!!',\n",
       " 'FREE MONTH & NO-FEE',\n",
       " 'and stainless steel appliances with a dishwasher well maintained hardwood floors add to the warmth and modern feel of the space.',\n",
       " 'Dogs under 20 Lbs.                Parking ( additional Fee)',\n",
       " 'Low fee and great space too!',\n",
       " 'NO FEE HARDWOOD FLOORS',\n",
       " 'No Fee or One Month Free',\n",
       " 'Accepts Credit Cards (Fee Applies)',\n",
       " 'No broker fee!',\n",
       " 'NO FEE Specialist! Harry Ego 718.413.8270 hego@citihabitats.com',\n",
       " \"1 mo broker's fee 18 mo lease\",\n",
       " 'One month Fee',\n",
       " 'NO BROKER FEE! NO FEE',\n",
       " 'Low Fee Listing',\n",
       " 'LOW FEE',\n",
       " 'ONLY 1st and Security**Heat and Hot water included**NO FEE**732-330-4737',\n",
       " '$250 application fee with background and credit check. Board interview and approval.',\n",
       " 'Reduced fee while it lasts!',\n",
       " 'no fee',\n",
       " '!!!!LOW FEE!!!!',\n",
       " 'reduced fee while it lasts!']"
      ]
     },
     "execution_count": 196,
     "metadata": {},
     "output_type": "execute_result"
    }
   ],
   "source": [
    "# Check all text including 'fee'\n",
    "re_search('fee')"
   ]
  },
  {
   "cell_type": "code",
   "execution_count": 197,
   "metadata": {
    "collapsed": false
   },
   "outputs": [
    {
     "data": {
      "text/plain": [
       "['No application fee!',\n",
       " 'NO FEE!!',\n",
       " 'NO FEE!!!Roof Deck',\n",
       " 'Owner Occupied - 3 family townhouse - no realtor fees - this beautiful apt is offered below market rate',\n",
       " 'LIMITED TIME - NO FEE',\n",
       " 'No Broker Fee',\n",
       " 'NO FEE...LUXURY DOORMAN BUILDING^^^RIVER VIEWS',\n",
       " 'No fee',\n",
       " 'NO FEE!!!',\n",
       " 'No Fee!',\n",
       " 'NO FEE!',\n",
       " 'No Fee',\n",
       " 'NO FEE',\n",
       " 'No Fee!!!',\n",
       " 'NO FEE HARDWOOD FLOORS',\n",
       " 'No Fee or One Month Free',\n",
       " 'No broker fee!',\n",
       " 'NO FEE Specialist! Harry Ego 718.413.8270 hego@citihabitats.com',\n",
       " 'NO BROKER FEE! NO FEE',\n",
       " 'ONLY 1st and Security**Heat and Hot water included**NO FEE**732-330-4737',\n",
       " 'no fee']"
      ]
     },
     "execution_count": 197,
     "metadata": {},
     "output_type": "execute_result"
    }
   ],
   "source": [
    "# Extract no fee\n",
    "re_search('no\\s*\\w*\\s*fee')"
   ]
  },
  {
   "cell_type": "code",
   "execution_count": 198,
   "metadata": {
    "collapsed": false
   },
   "outputs": [
    {
     "data": {
      "text/plain": [
       "['Low Fee',\n",
       " 'Reduced Fee',\n",
       " 'Low fee and great space too!',\n",
       " 'Low Fee Listing',\n",
       " 'LOW FEE',\n",
       " 'Reduced fee while it lasts!',\n",
       " '!!!!LOW FEE!!!!',\n",
       " 'reduced fee while it lasts!']"
      ]
     },
     "execution_count": 198,
     "metadata": {},
     "output_type": "execute_result"
    }
   ],
   "source": [
    "# Extract low fee\n",
    "re_search('reduce|low\\sfee')"
   ]
  },
  {
   "cell_type": "code",
   "execution_count": 199,
   "metadata": {
    "collapsed": false
   },
   "outputs": [
    {
     "data": {
      "text/plain": [
       "['laundry & housekeeping',\n",
       " 'Elevator & Laundry',\n",
       " 'Laundry in building',\n",
       " 'laundry / dry-cleaning and auto care',\n",
       " 'laundry room',\n",
       " 'laundry hookup',\n",
       " 'laundry in building',\n",
       " 'laundry room as well as housekeeping & dry-cleaning services',\n",
       " 'On-site Laundry',\n",
       " 'Laundry in Building!',\n",
       " 'laundry & housekeeping • Marc Club includes a cinema room',\n",
       " 'Laundry On Floor',\n",
       " 'elevator & Laundry',\n",
       " 'ELEVATOR/LAUNDRY/ SO CLOSE TO THE 6 $2450!!',\n",
       " 'Garage Fitness Facility Laundry Room Valet Lounge Billiards Room Rooftop Deck WiFi Access',\n",
       " 'Laundry facility on every floor',\n",
       " 'Laundry In Unit',\n",
       " 'laundry in bldg',\n",
       " 'Laundry Room',\n",
       " 'Private laundry room on every floor',\n",
       " 'Valet Laundry',\n",
       " 'Laundry.',\n",
       " 'Spotless Laundry',\n",
       " 'Laundry in Building',\n",
       " 'laundry in bldg.',\n",
       " 'On-site laundry',\n",
       " 'Laundry in Some Units',\n",
       " 'Laundry room on every floor. Health club',\n",
       " 'Laundry',\n",
       " 'Laundry room',\n",
       " 'Elevator & LAUNDRY',\n",
       " 'air conditioned laundry facility',\n",
       " 'Laundry on every floor',\n",
       " 'laundry in basement',\n",
       " 'Laundry In Building',\n",
       " 'Laundry in Unit',\n",
       " 'LAUNDRY',\n",
       " 'Laundry on floor']"
      ]
     },
     "execution_count": 199,
     "metadata": {},
     "output_type": "execute_result"
    }
   ],
   "source": [
    "# Check all text including 'laundry'\n",
    "re_search('laundry')"
   ]
  },
  {
   "cell_type": "code",
   "execution_count": 200,
   "metadata": {
    "collapsed": false
   },
   "outputs": [
    {
     "data": {
      "text/plain": [
       "['Post War',\n",
       " 'Post-War',\n",
       " 'PRE-WAR',\n",
       " 'Pre-war Charm',\n",
       " 'Pre-War brand new renovations',\n",
       " 'Prewar',\n",
       " 'Postwar',\n",
       " 'Pre-War Details',\n",
       " 'Pre-War',\n",
       " 'prewar',\n",
       " '* MARVELOUS MIDTOWN GEM * SPACIOUS SUNDRENCHED STUDIO * STUNNING PREWAR DETAILS * CATS OK **',\n",
       " 'postwar',\n",
       " 'Pre War',\n",
       " 'Pre-War small dogs']"
      ]
     },
     "execution_count": 200,
     "metadata": {},
     "output_type": "execute_result"
    }
   ],
   "source": [
    "# Extract war and exclude other keyword with 'war' such as warmth and wardrobe\n",
    "re_search('war\\Z|war\\s')"
   ]
  },
  {
   "cell_type": "code",
   "execution_count": 201,
   "metadata": {
    "collapsed": false
   },
   "outputs": [
    {
     "data": {
      "text/plain": [
       "['fitness facility',\n",
       " 'Fully equipped fitness center with studio for classes',\n",
       " 'Local Gym Discount',\n",
       " 'Two Level Fitness Center',\n",
       " 'Gym Discount',\n",
       " 'fitness center',\n",
       " 'State-of-the-Art Cardio and Fitness Club',\n",
       " 'Gym In Building',\n",
       " 'Residents-only fitness center and aerobic room professionally outfitted with a full complement of strength and cardio-training equipment',\n",
       " 'Gym',\n",
       " 'gym',\n",
       " 'Fitness Center and health club',\n",
       " 'Fully-equipped Club fitness center',\n",
       " 'Concierge service. Fitness center',\n",
       " 'Garage Fitness Facility Laundry Room Valet Lounge Billiards Room Rooftop Deck WiFi Access',\n",
       " 'Full size gym',\n",
       " 'Gym/Fitness',\n",
       " 'free gym',\n",
       " 'fully equipped gym',\n",
       " '000 SF Fitness Center',\n",
       " 'A wide array of complimentary fitness classes offered weekly',\n",
       " 'featuring a sophisticated Precor® online profile system that tracks your personal fitness goals',\n",
       " 'state-of-the-art fitness center',\n",
       " 'Free Gym',\n",
       " '24/7 Fitness Center',\n",
       " 'Gym Fitness Lounge Swimming Pool Sun Decks Exercise Studios Indoor Half-Basketball Court',\n",
       " 'state of the art fitness center',\n",
       " 'state-of-the-art fitness center and even an on-site dog run',\n",
       " 'Fitness Room',\n",
       " 'Fitness Center',\n",
       " 'Fitness center']"
      ]
     },
     "execution_count": 201,
     "metadata": {},
     "output_type": "execute_result"
    }
   ],
   "source": [
    "# Check all text including 'fitness' or 'gym'\n",
    "re_search('fitness|gym')"
   ]
  },
  {
   "cell_type": "markdown",
   "metadata": {},
   "source": [
    "### Build new features"
   ]
  },
  {
   "cell_type": "code",
   "execution_count": 8,
   "metadata": {
    "collapsed": true
   },
   "outputs": [],
   "source": [
    "def add_feature(row):\n",
    "    if re.search(r'hardwood',row['features_new'],re.IGNORECASE)!=None:\n",
    "        row['hardwood']=1\n",
    "    else:\n",
    "        row['hardwood']=0\n",
    "        \n",
    "    if re.search(r'doorman',row['features_new'],re.IGNORECASE)!=None:\n",
    "        row['doorman']=1\n",
    "    else:\n",
    "        row['doorman']=0\n",
    "    \n",
    "    if re.search(r'no\\w*fee',row['features_new'],re.IGNORECASE)!=None:\n",
    "        row['no_fee']=1\n",
    "    else:\n",
    "        row['no_fee']=0\n",
    "    \n",
    "    if re.search(r'reduce|low\\wfee',row['features_new'],re.IGNORECASE)!=None:\n",
    "        row['reduce_fee']=1\n",
    "    else:\n",
    "        row['reduce_fee']=0\n",
    "\n",
    "    if re.search(r'laundry',row['features_new'],re.IGNORECASE)!=None:\n",
    "        row['laundry']=1\n",
    "    else:\n",
    "        row['laundry']=0\n",
    "\n",
    "    if re.search(r'war\\Z|war\\s|war_',row['features_new'],re.IGNORECASE)!=None:\n",
    "        row['war']=1\n",
    "    else:\n",
    "        row['war']=0\n",
    "\n",
    "    if re.search(r'fitness|gym',row['features_new'],re.IGNORECASE)!=None:\n",
    "        row['gym']=1\n",
    "    else:\n",
    "        row['gym']=0\n",
    "        \n",
    "    return row\n"
   ]
  },
  {
   "cell_type": "code",
   "execution_count": 223,
   "metadata": {
    "collapsed": false
   },
   "outputs": [
    {
     "name": "stdout",
     "output_type": "stream",
     "text": [
      "174.36564755439758\n"
     ]
    }
   ],
   "source": [
    "t0=time()\n",
    "train=train.apply(add_feature,axis=1)\n",
    "print(time()-t0)"
   ]
  },
  {
   "cell_type": "code",
   "execution_count": 225,
   "metadata": {
    "collapsed": false
   },
   "outputs": [
    {
     "data": {
      "text/plain": [
       "hardwood      24629\n",
       "doorman       21037\n",
       "no_fee        18068\n",
       "reduce_fee      702\n",
       "laundry       23888\n",
       "war           10555\n",
       "gym           13291\n",
       "dtype: int64"
      ]
     },
     "execution_count": 225,
     "metadata": {},
     "output_type": "execute_result"
    }
   ],
   "source": [
    "train[['hardwood','doorman','no_fee','reduce_fee','laundry','war','gym']].apply(sum)"
   ]
  },
  {
   "cell_type": "code",
   "execution_count": 228,
   "metadata": {
    "collapsed": false
   },
   "outputs": [],
   "source": [
    "train.to_json('train_cleaned.json')"
   ]
  },
  {
   "cell_type": "code",
   "execution_count": 9,
   "metadata": {
    "collapsed": false
   },
   "outputs": [
    {
     "name": "stdout",
     "output_type": "stream",
     "text": [
      "272.64689207077026\n"
     ]
    }
   ],
   "source": [
    "t0=time()\n",
    "test=test.apply(add_feature,axis=1)\n",
    "print(time()-t0)"
   ]
  },
  {
   "cell_type": "code",
   "execution_count": 10,
   "metadata": {
    "collapsed": false
   },
   "outputs": [
    {
     "data": {
      "text/plain": [
       "hardwood      37260\n",
       "doorman       31649\n",
       "no_fee        27359\n",
       "reduce_fee     1120\n",
       "laundry       35964\n",
       "war           16144\n",
       "gym           20246\n",
       "dtype: int64"
      ]
     },
     "execution_count": 10,
     "metadata": {},
     "output_type": "execute_result"
    }
   ],
   "source": [
    "test[['hardwood','doorman','no_fee','reduce_fee','laundry','war','gym']].apply(sum)"
   ]
  },
  {
   "cell_type": "code",
   "execution_count": 11,
   "metadata": {
    "collapsed": true
   },
   "outputs": [],
   "source": [
    "test.to_json('test_cleaned.json')"
   ]
  },
  {
   "cell_type": "code",
   "execution_count": null,
   "metadata": {
    "collapsed": true
   },
   "outputs": [],
   "source": []
  }
 ],
 "metadata": {
  "anaconda-cloud": {},
  "kernelspec": {
   "display_name": "Python [Root]",
   "language": "python",
   "name": "Python [Root]"
  },
  "language_info": {
   "codemirror_mode": {
    "name": "ipython",
    "version": 3
   },
   "file_extension": ".py",
   "mimetype": "text/x-python",
   "name": "python",
   "nbconvert_exporter": "python",
   "pygments_lexer": "ipython3",
   "version": "3.5.2"
  }
 },
 "nbformat": 4,
 "nbformat_minor": 0
}
